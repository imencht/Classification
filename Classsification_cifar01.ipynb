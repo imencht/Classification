{
  "nbformat": 4,
  "nbformat_minor": 0,
  "metadata": {
    "accelerator": "GPU",
    "colab": {
      "name": "Untitled5.ipynb",
      "provenance": [],
      "collapsed_sections": []
    },
    "kernelspec": {
      "display_name": "Python 3",
      "name": "python3"
    },
    "language_info": {
      "name": "python"
    }
  },
  "cells": [
    {
      "cell_type": "code",
      "metadata": {
        "id": "r3iT2p4hyzKD"
      },
      "source": [
        "# Importer les packages\n",
        "import numpy as np\n",
        "import tensorflow as tf\n",
        "import matplotlib.pyplot as plt\n",
        "from tensorflow.keras.datasets import cifar10\n",
        "from tensorflow.keras.preprocessing.image import ImageDataGenerator\n",
        "from tensorflow.keras.layers import Dense, Activation, Flatten\n",
        "from tensorflow.keras.models import Sequential\n",
        "from tensorflow.keras.layers import Conv2D,MaxPooling2D"
      ],
      "execution_count": 35,
      "outputs": []
    },
    {
      "cell_type": "code",
      "metadata": {
        "id": "UVFLhvh10vCe"
      },
      "source": [
        "# Chargement de la base de données\n",
        "(X_train,y_train),(x_test,y_test)=cifar10.load_data()"
      ],
      "execution_count": 37,
      "outputs": []
    },
    {
      "cell_type": "code",
      "metadata": {
        "colab": {
          "base_uri": "https://localhost:8080/",
          "height": 283
        },
        "id": "3zEdCZ-U1G0q",
        "outputId": "208e9d29-0fbf-40e9-9be9-9ce5b32a3673"
      },
      "source": [
        "plt.imshow(X_train[9])"
      ],
      "execution_count": 38,
      "outputs": [
        {
          "output_type": "execute_result",
          "data": {
            "text/plain": [
              "<matplotlib.image.AxesImage at 0x7f3a9ef08450>"
            ]
          },
          "metadata": {},
          "execution_count": 38
        },
        {
          "output_type": "display_data",
          "data": {
            "image/png": "[encoded data removed]",
            "text/plain": [
              "<Figure size 432x288 with 1 Axes>"
            ]
          },
          "metadata": {
            "needs_background": "light"
          }
        }
      ]
    },
    {
      "cell_type": "code",
      "metadata": {
        "id": "8yGr50eW1Vxq"
      },
      "source": [
        "# Normaliser les photos\n",
        "X_train=X_train/255.0\n",
        "x_test=x_test/255.0"
      ],
      "execution_count": 39,
      "outputs": []
    },
    {
      "cell_type": "code",
      "metadata": {
        "id": "3gjhe75C1bih"
      },
      "source": [
        "# Créer mon model\n",
        "model=Sequential()"
      ],
      "execution_count": 40,
      "outputs": []
    },
    {
      "cell_type": "code",
      "metadata": {
        "id": "IvHo21j41N4E"
      },
      "source": [
        "# Crèer le réseau de convolution (CNN)\n",
        "model.add(Conv2D(256,(3,3),input_shape=X_train.shape[1:]))\n",
        "model.add(Activation('relu'))\n",
        "model.add(MaxPooling2D(pool_size=(2,2)))"
      ],
      "execution_count": 41,
      "outputs": []
    },
    {
      "cell_type": "code",
      "metadata": {
        "id": "wPDAaWm2-ur-"
      },
      "source": [
        "model.add(Conv2D(256,(3,3)))\n",
        "model.add(Activation('relu'))\n",
        "model.add(MaxPooling2D(pool_size=(2,2)))"
      ],
      "execution_count": 42,
      "outputs": []
    },
    {
      "cell_type": "code",
      "metadata": {
        "id": "QlGkoVQp3god"
      },
      "source": [
        "model.add(Flatten())"
      ],
      "execution_count": 43,
      "outputs": []
    },
    {
      "cell_type": "code",
      "metadata": {
        "id": "D9XFqyTF3utZ"
      },
      "source": [
        "# Le complétement connecté\n",
        "model.add(Dense(64))\n",
        "model.add(Dense(10)) #dix categorie de photo\n",
        "model.add(Activation('sigmoid'))\n",
        "model.compile(loss='sparse_categorical_crossentropy',optimizer=\"Adam\",metrics=['sparse_categorical_accuracy'])"
      ],
      "execution_count": 45,
      "outputs": []
    },
    {
      "cell_type": "code",
      "metadata": {
        "colab": {
          "base_uri": "https://localhost:8080/"
        },
        "id": "F0HH_qGB5oit",
        "outputId": "31c9f79e-d317-40fe-d130-65a26d9dfd62"
      },
      "source": [
        "model.summary()"
      ],
      "execution_count": 46,
      "outputs": [
        {
          "output_type": "stream",
          "name": "stdout",
          "text": [
            "Model: \"sequential_2\"\n",
            "_________________________________________________________________\n",
            "Layer (type)                 Output Shape              Param #   \n",
            "=================================================================\n",
            "conv2d_5 (Conv2D)            (None, 30, 30, 256)       7168      \n",
            "_________________________________________________________________\n",
            "activation_6 (Activation)    (None, 30, 30, 256)       0         \n",
            "_________________________________________________________________\n",
            "max_pooling2d_3 (MaxPooling2 (None, 15, 15, 256)       0         \n",
            "_________________________________________________________________\n",
            "conv2d_6 (Conv2D)            (None, 13, 13, 256)       590080    \n",
            "_________________________________________________________________\n",
            "activation_7 (Activation)    (None, 13, 13, 256)       0         \n",
            "_________________________________________________________________\n",
            "max_pooling2d_4 (MaxPooling2 (None, 6, 6, 256)         0         \n",
            "_________________________________________________________________\n",
            "flatten_3 (Flatten)          (None, 9216)              0         \n",
            "_________________________________________________________________\n",
            "dense_6 (Dense)              (None, 64)                589888    \n",
            "_________________________________________________________________\n",
            "dense_7 (Dense)              (None, 10)                650       \n",
            "_________________________________________________________________\n",
            "activation_8 (Activation)    (None, 10)                0         \n",
            "_________________________________________________________________\n",
            "dense_8 (Dense)              (None, 64)                704       \n",
            "_________________________________________________________________\n",
            "dense_9 (Dense)              (None, 10)                650       \n",
            "_________________________________________________________________\n",
            "activation_9 (Activation)    (None, 10)                0         \n",
            "=================================================================\n",
            "Total params: 1,189,140\n",
            "Trainable params: 1,189,140\n",
            "Non-trainable params: 0\n",
            "_________________________________________________________________\n"
          ]
        }
      ]
    },
    {
      "cell_type": "code",
      "metadata": {
        "colab": {
          "base_uri": "https://localhost:8080/"
        },
        "id": "UXfbULiR7N2f",
        "outputId": "d901caf1-b416-4242-f27e-0c45286ccc9f"
      },
      "source": [
        "# Entrainer le modèle\n",
        "model.fit(X_train, y_train, batch_size=64, epochs=10)"
      ],
      "execution_count": 47,
      "outputs": [
        {
          "output_type": "stream",
          "name": "stdout",
          "text": [
            "Epoch 1/10\n",
            "782/782 [==============================] - 18s 22ms/step - loss: 1.6329 - sparse_categorical_accuracy: 0.4096\n",
            "Epoch 2/10\n",
            "782/782 [==============================] - 18s 23ms/step - loss: 1.2088 - sparse_categorical_accuracy: 0.5666\n",
            "Epoch 3/10\n",
            "782/782 [==============================] - 18s 23ms/step - loss: 1.0372 - sparse_categorical_accuracy: 0.6350\n",
            "Epoch 4/10\n",
            "782/782 [==============================] - 18s 23ms/step - loss: 0.9242 - sparse_categorical_accuracy: 0.6771\n",
            "Epoch 5/10\n",
            "782/782 [==============================] - 18s 23ms/step - loss: 0.8303 - sparse_categorical_accuracy: 0.7120\n",
            "Epoch 6/10\n",
            "782/782 [==============================] - 18s 23ms/step - loss: 0.7598 - sparse_categorical_accuracy: 0.7365\n",
            "Epoch 7/10\n",
            "782/782 [==============================] - 18s 23ms/step - loss: 0.6930 - sparse_categorical_accuracy: 0.7597\n",
            "Epoch 8/10\n",
            "782/782 [==============================] - 18s 23ms/step - loss: 0.6441 - sparse_categorical_accuracy: 0.7776\n",
            "Epoch 9/10\n",
            "782/782 [==============================] - 18s 23ms/step - loss: 0.5988 - sparse_categorical_accuracy: 0.7925\n",
            "Epoch 10/10\n",
            "782/782 [==============================] - 18s 23ms/step - loss: 0.5587 - sparse_categorical_accuracy: 0.8056\n"
          ]
        },
        {
          "output_type": "execute_result",
          "data": {
            "text/plain": [
              "<keras.callbacks.History at 0x7f3a9ee94390>"
            ]
          },
          "metadata": {},
          "execution_count": 47
        }
      ]
    },
    {
      "cell_type": "code",
      "metadata": {
        "colab": {
          "base_uri": "https://localhost:8080/"
        },
        "id": "CgrciOFz-Yko",
        "outputId": "b6be0808-9264-4fd7-b6ba-7d65a606bd28"
      },
      "source": [
        "test_loss,test_accuracy = model.evaluate(x_test,y_test)"
      ],
      "execution_count": 48,
      "outputs": [
        {
          "output_type": "stream",
          "name": "stdout",
          "text": [
            "313/313 [==============================] - 3s 8ms/step - loss: 0.9672 - sparse_categorical_accuracy: 0.6948\n"
          ]
        }
      ]
    }
  ]
}